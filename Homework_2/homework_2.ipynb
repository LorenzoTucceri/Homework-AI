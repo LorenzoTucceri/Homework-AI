{
 "cells": [
  {
   "cell_type": "markdown",
   "metadata": {
    "collapsed": false
   },
   "source": [
    "The Python chess library was utilized for the implementation of the chess game. The standout feature of this library for this project lies in its legal move generation and evaluation, proving highly beneficial for generating all possible subsequent board states.\n",
    "\n",
    "For the implementation of the Predictive Search, the scikit library was employed, specifically utilizing a specific type of Regressor: the Multi-Layer Perceptron Regressor, a neural network that can consist of multiple hidden layers. The Regressor was employed to return the optimal score achievable by the children of a given board configuration, delving deep into the search for the best obtainable score.\n",
    "\n",
    "# Implementation:\n",
    "The min-max search algorithm with alpha-beta pruning was implemented. The heuristic takes into account that chess is a zero-sum game, and in this implementation, a board with a positive heuristic favors white (while a negative heuristic favors black). This implies that white plays the role of the maximizing player, whereas black is the minimizing player in the evaluations performed during the min-max search with alpha-beta pruning."
   ]
  },
  {
   "cell_type": "code",
   "execution_count": 1,
   "metadata": {
    "collapsed": false
   },
   "outputs": [],
   "source": [
    "import chess, chess.svg, chess.engine\n",
    "import random\n",
    "import time\n",
    "import pandas as pd\n",
    "from tqdm import tqdm\n",
    "from sklearn.neural_network import MLPRegressor\n",
    "from sklearn.model_selection import train_test_split, cross_val_score\n",
    "from sklearn import metrics\n",
    "from itertools import product\n",
    "import matplotlib.pyplot as plt\n",
    "import numpy as np\n",
    "import pickle\n",
    "\n",
    "import warnings\n",
    "warnings.filterwarnings(\"ignore\")"
   ]
  },
  {
   "cell_type": "markdown",
   "metadata": {
    "collapsed": false
   },
   "source": [
    "## Heuristics:\n",
    "* **PiecesNumberHeuristic**: This heuristic evaluates solely the number of pieces remaining on the board after a move. All the counts of white pieces are assessed alongside the black ones and combined in a linear fashion.\n",
    "\n",
    "* **PositionHeuristic**: This heuristic assesses only the position of pieces on the board. Each piece has a specific table that defines its preferred section of the board to move on.\n",
    "\n",
    "* **evaluate_board**: This heuristic combines the evaluations of the previous two heuristics and checks whether the game has concluded (either through checkmate or a draw).\n",
    "\n",
    "The heuristic system is divided into two parts:\n",
    "**Heuristic**: This serves as the superclass for heuristic evaluation, utilized by agents.\n",
    "\n",
    "**HeuristicChess**: Specifically tailored for chess games, this heuristic evaluates the board, i.e., the arrangement of pieces on the board.\n"
   ]
  },
  {
   "cell_type": "code",
   "execution_count": 2,
   "metadata": {
    "ExecuteTime": {
     "end_time": "2023-11-18T18:04:28.772581Z",
     "start_time": "2023-11-18T18:04:28.768379Z"
    },
    "collapsed": false
   },
   "outputs": [],
   "source": [
    "\"\"\"SuperClass\"\"\"\n",
    "class Heuristic:\n",
    "\n",
    "    def __init__(self):\n",
    "        pass\n",
    "\n",
    "\"\"\"Class that implementt the heuristic evaluation of the state\"\"\"\n",
    "class HeuristicChess(Heuristic):\n",
    "\n",
    "    def __init__(self):\n",
    "        pass\n",
    "    \n",
    "    @staticmethod\n",
    "    def check_status_heuristic(board_state: chess.Board):\n",
    "    \n",
    "\n",
    "        if (\n",
    "            board_state.is_stalemate()\n",
    "            or board_state.is_insufficient_material()\n",
    "            or board_state.is_seventyfive_moves()\n",
    "            or board_state.is_fivefold_repetition()\n",
    "        ):\n",
    "            return 0\n",
    "    \n",
    "        if board_state.is_checkmate():\n",
    "            if board_state.turn:\n",
    "                return 9999  # black wins\n",
    "            else:\n",
    "                return -9999  # white wins\n",
    "    \n",
    "        if board_state.is_check():\n",
    "            return 100 if board_state.turn else -100\n",
    "\n",
    "        return 0\n",
    "\n",
    "    @staticmethod\n",
    "    def PiecesNumberHeuristic(board: chess.Board):\n",
    "   \n",
    "\n",
    "        wp = len(board.pieces(chess.PAWN, chess.WHITE))\n",
    "        bp = len(board.pieces(chess.PAWN, chess.BLACK))\n",
    "        wn = len(board.pieces(chess.KNIGHT, chess.WHITE))\n",
    "        bn = len(board.pieces(chess.KNIGHT, chess.BLACK))\n",
    "        wb = len(board.pieces(chess.BISHOP, chess.WHITE))\n",
    "        bb = len(board.pieces(chess.BISHOP, chess.BLACK))\n",
    "        wr = len(board.pieces(chess.ROOK, chess.WHITE))\n",
    "        br = len(board.pieces(chess.ROOK, chess.BLACK))\n",
    "        wq = len(board.pieces(chess.QUEEN, chess.WHITE))\n",
    "        bq = len(board.pieces(chess.QUEEN, chess.BLACK))\n",
    "\n",
    "        return 100 * (wp - bp) + 320 * (wn - bn) + 330 * (wb - bb) + 500 * (wr - br) + 900 * (wq - bq)\n",
    "\n",
    "    @staticmethod\n",
    "    def PositionHeuristic(board: chess.Board):\n",
    "\n",
    "        pawntable = [\n",
    "            0, 0, 0, 0, 0, 0, 0, 0,\n",
    "            5, 10, 10, -20, -20, 10, 10, 5,\n",
    "            5, -5, -10, 0, 0, -10, -5, 5,\n",
    "            0, 0, 0, 20, 20, 0, 0, 0,\n",
    "            5, 5, 10, 25, 25, 10, 5, 5,\n",
    "            10, 10, 20, 30, 30, 20, 10, 10,\n",
    "            50, 50, 50, 50, 50, 50, 50, 50,\n",
    "            0, 0, 0, 0, 0, 0, 0, 0]\n",
    "\n",
    "        knightstable = [\n",
    "            -50, -40, -30, -30, -30, -30, -40, -50,\n",
    "            -40, -20, 0, 5, 5, 0, -20, -40,\n",
    "            -30, 5, 10, 15, 15, 10, 5, -30,\n",
    "            -30, 0, 15, 20, 20, 15, 0, -30,\n",
    "            -30, 5, 15, 20, 20, 15, 5, -30,\n",
    "            -30, 0, 10, 15, 15, 10, 0, -30,\n",
    "            -40, -20, 0, 0, 0, 0, -20, -40,\n",
    "            -50, -40, -30, -30, -30, -30, -40, -50]\n",
    "\n",
    "        bishopstable = [\n",
    "            -20, -10, -10, -10, -10, -10, -10, -20,\n",
    "            -10, 5, 0, 0, 0, 0, 5, -10,\n",
    "            -10, 10, 10, 10, 10, 10, 10, -10,\n",
    "            -10, 0, 10, 10, 10, 10, 0, -10,\n",
    "            -10, 5, 5, 10, 10, 5, 5, -10,\n",
    "            -10, 0, 5, 10, 10, 5, 0, -10,\n",
    "            -10, 0, 0, 0, 0, 0, 0, -10,\n",
    "            -20, -10, -10, -10, -10, -10, -10, -20]\n",
    "\n",
    "        rookstable = [\n",
    "            0, 0, 0, 5, 5, 0, 0, 0,\n",
    "            -5, 0, 0, 0, 0, 0, 0, -5,\n",
    "            -5, 0, 0, 0, 0, 0, 0, -5,\n",
    "            -5, 0, 0, 0, 0, 0, 0, -5,\n",
    "            -5, 0, 0, 0, 0, 0, 0, -5,\n",
    "            -5, 0, 0, 0, 0, 0, 0, -5,\n",
    "            5, 10, 10, 10, 10, 10, 10, 5,\n",
    "            0, 0, 0, 0, 0, 0, 0, 0]\n",
    "\n",
    "        queenstable = [\n",
    "            -20, -10, -10, -5, -5, -10, -10, -20,\n",
    "            -10, 0, 0, 0, 0, 0, 0, -10,\n",
    "            -10, 5, 5, 5, 5, 5, 0, -10,\n",
    "            0, 0, 5, 5, 5, 5, 0, -5,\n",
    "            -5, 0, 5, 5, 5, 5, 0, -5,\n",
    "            -10, 0, 5, 5, 5, 5, 0, -10,\n",
    "            -10, 0, 0, 0, 0, 0, 0, -10,\n",
    "            -20, -10, -10, -5, -5, -10, -10, -20]\n",
    "\n",
    "        kingstable = [\n",
    "            20, 30, 10, 0, 0, 10, 30, 20,\n",
    "            20, 20, 0, 0, 0, 0, 20, 20,\n",
    "            -10, -20, -20, -20, -20, -20, -20, -10,\n",
    "            -20, -30, -30, -40, -40, -30, -30, -20,\n",
    "            -30, -40, -40, -50, -50, -40, -40, -30,\n",
    "            -30, -40, -40, -50, -50, -40, -40, -30,\n",
    "            -30, -40, -40, -50, -50, -40, -40, -30,\n",
    "            -30, -40, -40, -50, -50, -40, -40, -30]\n",
    "\n",
    "        pawnsq = sum([pawntable[i] for i in board.pieces(chess.PAWN, chess.WHITE)])\n",
    "        pawnsq = pawnsq + sum([-pawntable[chess.square_mirror(i)]\n",
    "                               for i in board.pieces(chess.PAWN, chess.BLACK)])\n",
    "        knightsq = sum([knightstable[i] for i in board.pieces(chess.KNIGHT, chess.WHITE)])\n",
    "        knightsq = knightsq + sum([-knightstable[chess.square_mirror(i)]\n",
    "                                   for i in board.pieces(chess.KNIGHT, chess.BLACK)])\n",
    "        bishopsq = sum([bishopstable[i] for i in board.pieces(chess.BISHOP, chess.WHITE)])\n",
    "        bishopsq = bishopsq + sum([-bishopstable[chess.square_mirror(i)]\n",
    "                                   for i in board.pieces(chess.BISHOP, chess.BLACK)])\n",
    "        rooksq = sum([rookstable[i] for i in board.pieces(chess.ROOK, chess.WHITE)])\n",
    "        rooksq = rooksq + sum([-rookstable[chess.square_mirror(i)]\n",
    "                               for i in board.pieces(chess.ROOK, chess.BLACK)])\n",
    "        queensq = sum([queenstable[i] for i in board.pieces(chess.QUEEN, chess.WHITE)])\n",
    "        queensq = queensq + sum([-queenstable[chess.square_mirror(i)]\n",
    "                                 for i in board.pieces(chess.QUEEN, chess.BLACK)])\n",
    "        kingsq = sum([kingstable[i] for i in board.pieces(chess.KING, chess.WHITE)])\n",
    "        kingsq = kingsq + sum([-kingstable[chess.square_mirror(i)]\n",
    "                               for i in board.pieces(chess.KING, chess.BLACK)])\n",
    "\n",
    "        return pawnsq + knightsq + bishopsq + rooksq + queensq + kingsq\n",
    "\n",
    "    def evaluate_board(self, board: chess.Board):\n",
    "        \"\"\"\n",
    "        Evaluate the overall heuristic value of the chess board.\n",
    "\n",
    "        Args:\n",
    "        - board (chess.Board): The current state of the chess board.\n",
    "\n",
    "        Returns:\n",
    "        - int: Overall heuristic value.\n",
    "        \"\"\"\n",
    "\n",
    "        if board.is_stalemate():\n",
    "            if board.turn:\n",
    "                return 5000\n",
    "            else:\n",
    "                return -5000\n",
    "\n",
    "        if board.is_checkmate():\n",
    "            if board.turn:\n",
    "                return -9999\n",
    "            else:\n",
    "                return 9999\n",
    "\n",
    "        npieces = self.PiecesNumberHeuristic(board)\n",
    "        ppieces = self.PositionHeuristic(board)\n",
    "\n",
    "        eval = npieces + ppieces\n",
    "\n",
    "        if board.turn:\n",
    "            return eval\n",
    "        else:\n",
    "            return -eval\n"
   ]
  },
  {
   "cell_type": "markdown",
   "metadata": {
    "collapsed": false
   },
   "source": [
    "## Agent:\n",
    "* **Using Greedy Algorithm**: This agent employs a Greedy algorithm, making decisions based on the locally optimal choice at each stage without considering the global picture.\n",
    "\n",
    "* **Using Min-Max with Alpha-Beta Pruning**: This agent utilizes the Min-Max algorithm with Alpha-Beta pruning, a systematic approach for decision-making in two-player games, considering the best and worst-case scenarios.\n",
    "\n",
    "* **Using Min-Max with Alpha-Beta Pruning for Adaptive Search**: This agent extends the Alpha-Beta pruning approach with an Adaptive Search strategy. It explores the subtrees of only the k most promising nodes at level l, tailoring the search to focus on the most relevant areas of the decision tree."
   ]
  },
  {
   "cell_type": "code",
   "execution_count": 3,
   "outputs": [],
   "source": [
    "class Agent:\n",
    "    def __init__(self, player: str, solver):\n",
    "        \"\"\"\n",
    "        Initialize the Agent.\n",
    "        This Class rapresentt an agent that can apply different solution search strategies.\n",
    "\n",
    "        Parameters:\n",
    "        - player: The player identifier (e.g., 'WHITE' or 'BLACK').\n",
    "        - solver: The solver or strategy used by the agent.\n",
    "        \"\"\"\n",
    "\n",
    "        self.player = player\n",
    "        self.solver = solver\n",
    "\n",
    "class GreedyPlayer(Agent):\n",
    "    def __init__(self, player, solver: Heuristic):\n",
    "\n",
    "\n",
    "        super().__init__(player, solver)\n",
    "\n",
    "    def move(self, board) -> str:\n",
    "\n",
    "\n",
    "        moves = list(board.legal_moves)\n",
    "\n",
    "        for move in moves:\n",
    "            test_board = board.copy()\n",
    "            test_board.push(move)\n",
    "\n",
    "            move.score = self.solver.evaluate_board(test_board)\n",
    "\n",
    "        #print(\"GREEDY\", moves[0])\n",
    "        return moves[0]\n",
    "\n",
    "class MinMaxPlayer(Agent):\n",
    "    def __init__(self, player, solver: Heuristic, depth):\n",
    "\n",
    "\n",
    "        super().__init__(player, solver)\n",
    "        self.depth = depth\n",
    "\n",
    "    def move(self, board):\n",
    "\n",
    "\n",
    "        bestMove = chess.Move.null()\n",
    "        bestValue = -99999\n",
    "        alpha = -100000\n",
    "        beta = 100000\n",
    "        depth = self.depth\n",
    "        for move in board.legal_moves:\n",
    "            board.push(move)\n",
    "            boardValue = -self.minMax(board, -beta, -alpha, depth - 1)\n",
    "            if boardValue > bestValue:\n",
    "                bestValue = boardValue\n",
    "                bestMove = move\n",
    "            if boardValue > alpha:\n",
    "                alpha = boardValue\n",
    "            board.pop()\n",
    "        return bestMove\n",
    "\n",
    "    def minMax(self, board, alpha, beta, depthleft):\n",
    "\n",
    "        bestscore = -9999\n",
    "        if (depthleft == 0):\n",
    "            return self.solver.evaluate_board(board)\n",
    "        else:\n",
    "            for move in board.legal_moves:\n",
    "                board.push(move)\n",
    "                score = -self.minMax(board, -beta, -alpha, depthleft - 1)\n",
    "                board.pop()\n",
    "                if (score >= beta):\n",
    "                    return score\n",
    "                if (score > bestscore):\n",
    "                    bestscore = score\n",
    "                if (score > alpha):\n",
    "                    alpha = score\n",
    "        return bestscore\n",
    "\n",
    "class MinMaxPlayerSpeedUp(MinMaxPlayer):\n",
    "    def __init__(self, player, solver: Heuristic, depth, l, k):\n",
    "\n",
    "        super().__init__(player, solver, depth)\n",
    "        self.promNodes = None\n",
    "        self.depth = depth\n",
    "        self.level = l\n",
    "        self.best = k\n",
    "\n",
    "        self.states = []\n",
    "        self.moves = []\n",
    "        self.bestValue = []\n",
    "        self.pieceCount = []\n",
    "        self.threatCount = []\n",
    "        self.pawnStructure = []\n",
    "\n",
    "    def move(self, board):\n",
    "\n",
    "\n",
    "        bestMove = chess.Move.null()\n",
    "        bestValue = -99999\n",
    "        alpha = -100000\n",
    "        beta = 100000\n",
    "        depth = self.depth\n",
    "        self.promNodes = []\n",
    "        for move in board.legal_moves:\n",
    "            board.push(move)\n",
    "            boardValue = -self.minMaxAdapt(board, -beta, -alpha, depth - 1)\n",
    "            if boardValue > bestValue:\n",
    "                bestValue = boardValue\n",
    "                bestMove = move\n",
    "            if boardValue > alpha:\n",
    "                alpha = boardValue\n",
    "            board.pop()\n",
    "\n",
    "        # observations\n",
    "        self.states.append(board.board_fen())\n",
    "        self.bestValue.append(bestValue)\n",
    "        self.moves.append(bestMove)\n",
    "        self.pieceCount.append(len(board.piece_map()))\n",
    "        self.threatCount.append(len(board.attackers(not board.turn, board.king(not board.turn))))\n",
    "        self.pawnStructure.append(sum(1 for square in chess.SquareSet(board.pawns) if board.is_pinned(not board.turn, square)))\n",
    "        #print(\"MINMAX\", bestMove)\n",
    "\n",
    "        return bestMove\n",
    "\n",
    "    def minMaxAdapt(self, board, alpha, beta, depthleft):\n",
    "\n",
    "        bestscore = -9999\n",
    "        eval = True\n",
    "        if depthleft == 0:\n",
    "            return self.solver.evaluate_board(board)\n",
    "        else:\n",
    "            for move in board.legal_moves:\n",
    "                board.push(move)\n",
    "                if depthleft == self.level:\n",
    "                    x = self.solver.evaluate_board(board)\n",
    "                    self.promNodes.append(x)\n",
    "                    self.promNodes.sort()\n",
    "                    if self.promNodes.__len__() >= self.best:\n",
    "                        if (x in self.promNodes[self.promNodes.__len__() - self.best - 1:self.promNodes.__len__() - 1]):\n",
    "                            eval = False\n",
    "                            bestscore = 100001\n",
    "                if (eval):\n",
    "                    score = -self.minMaxAdapt(board, -beta, -alpha, depthleft - 1)\n",
    "                    board.pop()\n",
    "                    if (score >= beta):\n",
    "                        return score\n",
    "                    if (score > bestscore):\n",
    "                        bestscore = score\n",
    "                    if (score > alpha):\n",
    "                        alpha = score\n",
    "                else:\n",
    "                    board.pop()\n",
    "        return bestscore"
   ],
   "metadata": {
    "collapsed": false
   }
  },
  {
   "cell_type": "markdown",
   "source": [
    "## Game class divided into Superclass for games played by agents and a Chess class for game"
   ],
   "metadata": {
    "collapsed": false
   }
  },
  {
   "cell_type": "code",
   "execution_count": 4,
   "metadata": {
    "ExecuteTime": {
     "end_time": "2023-11-18T18:04:30.391640Z",
     "start_time": "2023-11-18T18:04:30.386892Z"
    },
    "collapsed": false
   },
   "outputs": [],
   "source": [
    "class Game:\n",
    "    def __init__(self, A1, A2, Board):\n",
    "    \n",
    "        self.player1 = A1\n",
    "        self.player2 = A2\n",
    "        self.board = Board\n",
    "        self.history = []\n",
    "\n",
    "class Chess:\n",
    "    def __init__(self, A1, A2,  Board):\n",
    "\n",
    "\n",
    "        self.player1 = A1\n",
    "        self.player2 = A2\n",
    "        self.board = Board\n",
    "        self.history = []\n",
    "\n",
    "    def Begin(self):\n",
    "  \n",
    "\n",
    "        self.board = chess.Board()\n",
    "        turns = random.randint(1, 9)\n",
    "        for x in range(turns):\n",
    "            moves = list(self.board.legal_moves)\n",
    "            move = random.choice(moves).uci()\n",
    "            self.board.push_uci(move)\n",
    "\n",
    "\n",
    "    def Play(self):\n",
    "\n",
    "        try:\n",
    "            i = 0\n",
    "            while not self.board.is_game_over(claim_draw=True):\n",
    "                if self.board.turn:\n",
    "                   move = self.player1.move(self.board)\n",
    "                else:\n",
    "                   move = self.player2.move(self.board)\n",
    "\n",
    "                i += 1\n",
    "                self.board.push(move)\n",
    "                self.history.append(move)\n",
    "\n",
    "        except KeyboardInterrupt:\n",
    "            exit(1)\n",
    "\n",
    "        return i, str(self.board.result())\n",
    "    \n",
    "    def startGame(self):\n",
    "        \"\"\"\n",
    "        Start the chess game by initializing and playing.\n",
    "\n",
    "        Returns:\n",
    "        - Result of the game after playing.\n",
    "        \"\"\"\n",
    "\n",
    "        self.Begin()\n",
    "        return self.Play()"
   ]
  },
  {
   "cell_type": "markdown",
   "metadata": {
    "collapsed": false
   },
   "source": [
    "# Predictive Agent\n",
    "\n",
    "The PredictivePlayer class has been developed to leverage the predict_move method instead of the traditional move function employed by the MinMax algorithm using heuristics. Rather than modifying an existing class, a new agent, named *PredictivePlayer*, has been created.\n",
    "\n",
    "Unlike traditional agents relying on heuristic functions, the PredictivePlayer class focuses on state prediction based on a combination of factors such as *fen* (Forsyth–Edwards Notation), *BestMove*, *PieceCount*, *ThreatCount*, and *PawnStructure*. These factors are utilized in accordance with a dataset to make predictions about the game state, showcasing a departure from the heuristic-driven approach commonly seen in MinMax-based agents."
   ]
  },
  {
   "cell_type": "code",
   "execution_count": 13,
   "metadata": {
    "ExecuteTime": {
     "end_time": "2023-11-18T18:24:36.025449Z",
     "start_time": "2023-11-18T18:24:36.017812Z"
    },
    "collapsed": false
   },
   "outputs": [],
   "source": [
    "class PredictivePlayer(Agent):\n",
    "    def __init__(self, player, regressor):\n",
    "    \n",
    "        super().__init__(player, None)\n",
    "        self.regressor = regressor\n",
    "        \n",
    "        self.features_updated = False\n",
    "        \n",
    "        self.map = {\n",
    "            '0': 0, 'r': 1, 'n': 2, 'b': 3, 'q': 4, 'k': 5, 'p': 6,\n",
    "            'R': 7, 'N': 8, 'B': 9, 'Q': 10, 'K': 11, 'P': 12\n",
    "        }\n",
    "        #self.moves = []\n",
    "        self.pieceCount = []\n",
    "        self.threatCount = []\n",
    "        self.pawnStructure = []\n",
    "        \n",
    "    def split(self, string):\n",
    "        return [char for char in string] \n",
    "    \n",
    "    def toZeroes(self, string):\n",
    "        return ''.join([char if not char.isdigit() else '0' * int(char) for char in string])\n",
    "    \n",
    "    def predictedValue(self, board):\n",
    "\n",
    "\n",
    "        if not self.features_updated:\n",
    "            self.update_features(board)\n",
    "            self.features_updated = True\n",
    "    \n",
    "        actual_board = np.array(self.split(self.toZeroes(board.board_fen()).replace('/', '')))\n",
    "        mapped_board = np.vectorize(self.map.get)(actual_board)\n",
    "        \n",
    "        all_features = np.concatenate([\n",
    "            mapped_board.reshape(1, -1),\n",
    "            #np.array(self.moves).reshape(1, -1),\n",
    "            np.array(self.pieceCount).reshape(1, -1),\n",
    "            np.array(self.threatCount).reshape(1, -1),\n",
    "            np.array(self.pawnStructure).reshape(1, -1)\n",
    "        ], axis=1)\n",
    "\n",
    "        return self.regressor.predict(all_features.reshape(1, -1))\n",
    "    \n",
    "    def update_features(self, board):\n",
    "\n",
    "\n",
    "        #self.moves.append(board.san(self.move(board)))\n",
    "        self.pieceCount.append(len(board.piece_map()))\n",
    "        self.threatCount.append(len(board.attackers(not board.turn, board.king(not board.turn))))\n",
    "        self.pawnStructure.append(sum(1 for square in chess.SquareSet(board.pawns) if board.is_pinned(not board.turn, square)))\n",
    "    \n",
    "    def move(self, board):\n",
    "  \n",
    "        self.features_updated = False  # Resetting flag\n",
    "        return super().move(board)\n",
    "\n",
    "\n",
    "class PredictivePlayerGreedy(PredictivePlayer):\n",
    "  \n",
    "\n",
    "    def __init__(self, player, regressor):\n",
    "        super().__init__(player, regressor)\n",
    "        self.solver = None\n",
    "        \n",
    "    def move(self, board) -> str:\n",
    "        moves = list(board.legal_moves)\n",
    "\n",
    "        for move in moves:\n",
    "            test_board = board.copy()\n",
    "            test_board.push(move)\n",
    "            move.score = self.predictedValue(board)\n",
    "\n",
    "        return moves[0]\n",
    "        \n",
    "class PredictivePlayerMinMax(PredictivePlayer):\n",
    "    \"\"\"\n",
    "    MinMax variant of PredictivePlayer that selects the move maximizing the predicted value.\n",
    "    \"\"\"\n",
    "\n",
    "    def __init__(self, player, depth, regressor):\n",
    "        super().__init__(player, regressor)\n",
    "        self.solver = None\n",
    "        self.depth = depth\n",
    "        \n",
    "    \n",
    "    def move(self, board):\n",
    "        legal_moves = list(board.legal_moves)\n",
    "        if legal_moves:\n",
    "            bestMove = legal_moves[0]\n",
    "        else:\n",
    "            bestMove = chess.Move.null()\n",
    "    \n",
    "        bestValue = -99999\n",
    "        alpha = -100000\n",
    "        beta = 100000\n",
    "        depth = self.depth\n",
    "    \n",
    "        for move in legal_moves:\n",
    "            board.push(move)\n",
    "            boardValue = -self.minMax(board, -beta, -alpha, depth - 1)\n",
    "    \n",
    "            if boardValue > bestValue:\n",
    "                bestValue = boardValue\n",
    "                bestMove = move\n",
    "    \n",
    "            if boardValue > alpha:\n",
    "                alpha = boardValue\n",
    "    \n",
    "            board.pop()\n",
    "    \n",
    "        #print(\"PREDICTIVE\", bestMove)\n",
    "        return bestMove\n",
    "\n",
    "    def minMax(self, board, alpha, beta, depthleft):\n",
    "        bestscore = -9999\n",
    "        if (depthleft == 0):\n",
    "            return self.predictedValue(board)\n",
    "        else:\n",
    "            for move in board.legal_moves:\n",
    "                board.push(move)\n",
    "                score = -self.minMax(board, -beta, -alpha, depthleft - 1)\n",
    "                board.pop()\n",
    "                if (score >= beta):\n",
    "                    return score\n",
    "                if (score > bestscore):\n",
    "                    bestscore = score\n",
    "                if (score > alpha):\n",
    "                    alpha = score\n",
    "        return bestscore"
   ]
  },
  {
   "cell_type": "markdown",
   "metadata": {
    "collapsed": false
   },
   "source": [
    "## Dataset creation through 1000 games at depth 5"
   ]
  },
  {
   "cell_type": "code",
   "execution_count": null,
   "metadata": {
    "collapsed": false
   },
   "outputs": [],
   "source": [
    "ds = []\n",
    "iters = 1000\n",
    "\n",
    "print(f\"\\nNumber of games: {iters}\"); print()\n",
    "\n",
    "# Dtasets entries\n",
    "ds = {'FEN': [], 'BestMove': [], 'PieceCount': [], 'ThreatCount': [], 'PawnStructure': [], 'Score': []}\n",
    "\n",
    "for _ in tqdm(range(iters), desc=\"Gaming\", unit=\"iter\"):\n",
    "    H = HeuristicChess()\n",
    "    Agent1 = MinMaxPlayerSpeedUp(\"WHITE\", H, depth=5, l=3, k=8)\n",
    "    Agent2 = GreedyPlayer(\"BLACK\", H)\n",
    "\n",
    "    Game = Chess(Agent1, Agent2, chess.Board())\n",
    "    Game.Begin()\n",
    "    game_result = Game.Play()\n",
    "\n",
    "    outcome, movesPlayed, _ = game_result\n",
    "\n",
    "    states = Agent1.states\n",
    "    moves = Agent1.moves\n",
    "    pieceCount = Agent1.pieceCount\n",
    "    threatCount = Agent1.threatCount\n",
    "    pawnStructure = Agent1.pawnStructure\n",
    "    scores = Agent1.bestValue\n",
    "\n",
    "    for i in range(len(states)):\n",
    "        ds['FEN'].append(states[i])\n",
    "        ds['BestMove'].append(moves[i])\n",
    "        ds['PieceCount'].append(pieceCount[i])\n",
    "        ds['ThreatCount'].append(threatCount[i])\n",
    "        ds['PawnStructure'].append(pawnStructure[i])\n",
    "        ds['Score'].append(scores[i])\n",
    "\n",
    "ds = pd.DataFrame(ds)\n",
    "\n",
    "filename = \"regressor.sav\"\n",
    "directory = \"./better_dataset/\"\n",
    "ds.to_csv(directory + filename, index=False) # exporting dataset"
   ]
  },
  {
   "cell_type": "markdown",
   "metadata": {
    "collapsed": false
   },
   "source": [
    "## Testing code cell"
   ]
  },
  {
   "cell_type": "code",
   "execution_count": null,
   "metadata": {
    "collapsed": false
   },
   "outputs": [],
   "source": [
    "iters = 5\n",
    "depths = range(1, 4)\n",
    "l_values = range(1,4)\n",
    "\n",
    "for depth, l in product(depths, l_values):\n",
    "    white_wins = 0\n",
    "    black_wins = 0\n",
    "    draws = 0\n",
    "        \n",
    "    print(f\"\\nNumber of games: {iters}\"); print()\n",
    "    print(f'White with depth MinMax {depth} and l {l}')\n",
    "    print(f'Black with Greedy')\n",
    "\n",
    "    for _ in tqdm(range(iters), desc=\"Gaming\", unit=\"iter\"):\n",
    "            \n",
    "        H = HeuristicChess()\n",
    "        Agent1 = MinMaxPlayerSpeedUp(\"WHITE\", H, depth=depth, l=l, k=5)\n",
    "        Agent2 = GreedyPlayer(\"BLACK\", H)\n",
    "            \n",
    "        Game = Chess(Agent1, Agent2, chess.Board())\n",
    "        Game.Begin()\n",
    "        game_result = Game.Play()\n",
    "\n",
    "        moves, _ = game_result\n",
    "            \n",
    "        if game_result[1] == \"1-0\":\n",
    "            white_wins += 1\n",
    "        elif game_result[1] == \"0-1\":\n",
    "            black_wins += 1\n",
    "        else:\n",
    "            draws += 1\n",
    "        \n",
    "    print()\n",
    "    print(f'White victories: {white_wins}')\n",
    "    print(f'Black victories: {black_wins}')\n",
    "    print(f'Draws: {draws}')\n",
    "    print(); print()\n",
    "    print('-' * 80); print()"
   ]
  },
  {
   "cell_type": "markdown",
   "metadata": {
    "collapsed": false
   },
   "source": [
    "## Once the dataset with the observations is saved, we process it in a way that allows us to feed it to the regressor."
   ]
  },
  {
   "cell_type": "code",
   "execution_count": 6,
   "metadata": {
    "ExecuteTime": {
     "end_time": "2023-11-18T18:05:10.527630Z",
     "start_time": "2023-11-18T18:05:10.472614Z"
    },
    "collapsed": false
   },
   "outputs": [
    {
     "data": {
      "text/html": [
       "<div>\n",
       "<style scoped>\n",
       "    .dataframe tbody tr th:only-of-type {\n",
       "        vertical-align: middle;\n",
       "    }\n",
       "\n",
       "    .dataframe tbody tr th {\n",
       "        vertical-align: top;\n",
       "    }\n",
       "\n",
       "    .dataframe thead th {\n",
       "        text-align: right;\n",
       "    }\n",
       "</style>\n",
       "<table border=\"1\" class=\"dataframe\">\n",
       "  <thead>\n",
       "    <tr style=\"text-align: right;\">\n",
       "      <th></th>\n",
       "      <th>FEN</th>\n",
       "      <th>BestMove</th>\n",
       "      <th>PieceCount</th>\n",
       "      <th>ThreatCount</th>\n",
       "      <th>PawnStructure</th>\n",
       "      <th>Score</th>\n",
       "    </tr>\n",
       "  </thead>\n",
       "  <tbody>\n",
       "    <tr>\n",
       "      <th>0</th>\n",
       "      <td>rnb1kbnr/ppqpp1p1/2p2pNp/8/P7/8/1PPPPPPP/RNBQKB1R</td>\n",
       "      <td>b1c3</td>\n",
       "      <td>32</td>\n",
       "      <td>0</td>\n",
       "      <td>0</td>\n",
       "      <td>415</td>\n",
       "    </tr>\n",
       "    <tr>\n",
       "      <th>1</th>\n",
       "      <td>rnb1kbnr/p1qpp1p1/1pp2pNp/8/P7/2N5/1PPPPPPP/R1...</td>\n",
       "      <td>e2e4</td>\n",
       "      <td>32</td>\n",
       "      <td>0</td>\n",
       "      <td>0</td>\n",
       "      <td>470</td>\n",
       "    </tr>\n",
       "    <tr>\n",
       "      <th>2</th>\n",
       "      <td>rnb1kbn1/p1qpp1pr/1pp2pNp/8/P3P3/2N5/1PPP1PPP/...</td>\n",
       "      <td>d2d4</td>\n",
       "      <td>32</td>\n",
       "      <td>0</td>\n",
       "      <td>0</td>\n",
       "      <td>470</td>\n",
       "    </tr>\n",
       "    <tr>\n",
       "      <th>3</th>\n",
       "      <td>rnbqkbn1/p2pp1pr/1pp2pNp/8/P2PP3/2N5/1PP2PPP/R...</td>\n",
       "      <td>f1c4</td>\n",
       "      <td>32</td>\n",
       "      <td>1</td>\n",
       "      <td>0</td>\n",
       "      <td>495</td>\n",
       "    </tr>\n",
       "    <tr>\n",
       "      <th>4</th>\n",
       "      <td>rnbqkbn1/p2pp1pr/1pp2pN1/7p/P1BPP3/2N5/1PP2PPP...</td>\n",
       "      <td>c4g8</td>\n",
       "      <td>32</td>\n",
       "      <td>1</td>\n",
       "      <td>0</td>\n",
       "      <td>955</td>\n",
       "    </tr>\n",
       "    <tr>\n",
       "      <th>...</th>\n",
       "      <td>...</td>\n",
       "      <td>...</td>\n",
       "      <td>...</td>\n",
       "      <td>...</td>\n",
       "      <td>...</td>\n",
       "      <td>...</td>\n",
       "    </tr>\n",
       "    <tr>\n",
       "      <th>16430</th>\n",
       "      <td>1nbq2n1/r2pp2r/1Pp2ppb/p1k4p/4P3/1QNB1N2/PP1P1...</td>\n",
       "      <td>c3a4</td>\n",
       "      <td>31</td>\n",
       "      <td>0</td>\n",
       "      <td>0</td>\n",
       "      <td>870</td>\n",
       "    </tr>\n",
       "    <tr>\n",
       "      <th>16431</th>\n",
       "      <td>1nbq2n1/r2pp2r/1Ppk1ppb/p6p/N3P3/1Q1B1N2/PP1P1...</td>\n",
       "      <td>b3a3</td>\n",
       "      <td>31</td>\n",
       "      <td>1</td>\n",
       "      <td>0</td>\n",
       "      <td>845</td>\n",
       "    </tr>\n",
       "    <tr>\n",
       "      <th>16432</th>\n",
       "      <td>1nbq2n1/r2pp2r/1Pp1kppb/p6p/N3P3/Q2B1N2/PP1P1P...</td>\n",
       "      <td>a4c5</td>\n",
       "      <td>31</td>\n",
       "      <td>1</td>\n",
       "      <td>0</td>\n",
       "      <td>880</td>\n",
       "    </tr>\n",
       "    <tr>\n",
       "      <th>16433</th>\n",
       "      <td>1nbq2n1/r2pp2r/1Ppk1ppb/p1N4p/4P3/Q2B1N2/PP1P1...</td>\n",
       "      <td>c5b7</td>\n",
       "      <td>31</td>\n",
       "      <td>1</td>\n",
       "      <td>0</td>\n",
       "      <td>865</td>\n",
       "    </tr>\n",
       "    <tr>\n",
       "      <th>16434</th>\n",
       "      <td>1nbq2n1/rN1pp2r/1Pp1kppb/p6p/4P3/Q2B1N2/PP1P1P...</td>\n",
       "      <td>b7d8</td>\n",
       "      <td>31</td>\n",
       "      <td>1</td>\n",
       "      <td>0</td>\n",
       "      <td>9999</td>\n",
       "    </tr>\n",
       "  </tbody>\n",
       "</table>\n",
       "<p>16435 rows × 6 columns</p>\n",
       "</div>"
      ],
      "text/plain": [
       "                                                     FEN BestMove  PieceCount  \\\n",
       "0      rnb1kbnr/ppqpp1p1/2p2pNp/8/P7/8/1PPPPPPP/RNBQKB1R     b1c3          32   \n",
       "1      rnb1kbnr/p1qpp1p1/1pp2pNp/8/P7/2N5/1PPPPPPP/R1...     e2e4          32   \n",
       "2      rnb1kbn1/p1qpp1pr/1pp2pNp/8/P3P3/2N5/1PPP1PPP/...     d2d4          32   \n",
       "3      rnbqkbn1/p2pp1pr/1pp2pNp/8/P2PP3/2N5/1PP2PPP/R...     f1c4          32   \n",
       "4      rnbqkbn1/p2pp1pr/1pp2pN1/7p/P1BPP3/2N5/1PP2PPP...     c4g8          32   \n",
       "...                                                  ...      ...         ...   \n",
       "16430  1nbq2n1/r2pp2r/1Pp2ppb/p1k4p/4P3/1QNB1N2/PP1P1...     c3a4          31   \n",
       "16431  1nbq2n1/r2pp2r/1Ppk1ppb/p6p/N3P3/1Q1B1N2/PP1P1...     b3a3          31   \n",
       "16432  1nbq2n1/r2pp2r/1Pp1kppb/p6p/N3P3/Q2B1N2/PP1P1P...     a4c5          31   \n",
       "16433  1nbq2n1/r2pp2r/1Ppk1ppb/p1N4p/4P3/Q2B1N2/PP1P1...     c5b7          31   \n",
       "16434  1nbq2n1/rN1pp2r/1Pp1kppb/p6p/4P3/Q2B1N2/PP1P1P...     b7d8          31   \n",
       "\n",
       "       ThreatCount  PawnStructure  Score  \n",
       "0                0              0    415  \n",
       "1                0              0    470  \n",
       "2                0              0    470  \n",
       "3                1              0    495  \n",
       "4                1              0    955  \n",
       "...            ...            ...    ...  \n",
       "16430            0              0    870  \n",
       "16431            1              0    845  \n",
       "16432            1              0    880  \n",
       "16433            1              0    865  \n",
       "16434            1              0   9999  \n",
       "\n",
       "[16435 rows x 6 columns]"
      ]
     },
     "execution_count": 6,
     "metadata": {},
     "output_type": "execute_result"
    }
   ],
   "source": [
    "ds = pd.read_csv(\"./better_dataset/dataset.csv\")\n",
    "ds"
   ]
  },
  {
   "cell_type": "code",
   "execution_count": 7,
   "metadata": {
    "ExecuteTime": {
     "end_time": "2023-11-18T18:05:26.580503Z",
     "start_time": "2023-11-18T18:05:11.643297Z"
    },
    "collapsed": false
   },
   "outputs": [
    {
     "name": "stderr",
     "output_type": "stream",
     "text": [
      "Processing DataFrame: 100%|██████████| 16435/16435 [00:20<00:00, 810.99it/s] \n"
     ]
    }
   ],
   "source": [
    "\n",
    "    \n",
    "    class ChessDatasetProcessor:\n",
    "    def __init__(self, dataset: pd.DataFrame):\n",
    "     \n",
    "        self.dataset = dataset\n",
    "        \n",
    "        self.chess_move_mapping = {\n",
    "            'a1': 0, 'a2': 1, 'a3': 2, 'a4': 3, 'a5': 4, 'a6': 5, 'a7': 6, 'a8': 7,\n",
    "            'b1': 8, 'b2': 9, 'b3': 10, 'b4': 11, 'b5': 12, 'b6': 13, 'b7': 14, 'b8': 15,\n",
    "            'c1': 16, 'c2': 17, 'c3': 18, 'c4': 19, 'c5': 20, 'c6': 21, 'c7': 22, 'c8': 23,\n",
    "            'd1': 24, 'd2': 25, 'd3': 26, 'd4': 27, 'd5': 28, 'd6': 29, 'd7': 30, 'd8': 31,\n",
    "            'e1': 32, 'e2': 33, 'e3': 34, 'e4': 35, 'e5': 36, 'e6': 37, 'e7': 38, 'e8': 39,\n",
    "            'f1': 40, 'f2': 41, 'f3': 42, 'f4': 43, 'f5': 44, 'f6': 45, 'f7': 46, 'f8': 47,\n",
    "            'g1': 48, 'g2': 49, 'g3': 50, 'g4': 51, 'g5': 52, 'g6': 53, 'g7': 54, 'g8': 55,\n",
    "            'h1': 56, 'h2': 57, 'h3': 58, 'h4': 59, 'h5': 60, 'h6': 61, 'h7': 62, 'h8': 63\n",
    "        }\n",
    "        \n",
    "        self.piece_mapping = {\n",
    "            '0': 0, 'r': 1, 'n': 2, 'b': 3, 'q': 4, 'k': 5, 'p': 6,\n",
    "            'R': 7, 'N': 8, 'B': 9, 'Q': 10, 'K': 11, 'P': 12\n",
    "        }\n",
    "    \n",
    "\n",
    "    @staticmethod\n",
    "    def toZeroes(string):\n",
    "\n",
    "\n",
    "        string = string.split(' ')[0]\n",
    "        for i in string.split('/'):\n",
    "            for j in i:\n",
    "                if(j.isdigit()):\n",
    "                    string=string.replace(j,'0'*int(j))\n",
    "        return string\n",
    "    \n",
    "    @staticmethod\n",
    "    def split(string):\n",
    "    \n",
    "\n",
    "        return [char for char in string]    \n",
    "    \n",
    "    def convertPieces(self):\n",
    "        columns_to_map = [col for col in self.dataset.columns if col != 'Score']\n",
    "    \n",
    "        for col in columns_to_map:\n",
    "            self.dataset[col] = self.dataset[col].map(self.piece_mapping)\n",
    "    \n",
    "    def convert_move(self, move):\n",
    "        try:\n",
    "            start_square = str(self.chess_move_mapping.get(move[:2], move[:2]))\n",
    "            end_square = str(self.chess_move_mapping.get(move[2:4], move[2:4]))\n",
    "    \n",
    "            # Se è una promozione, aggiungi il carattere di promozione\n",
    "            if len(move) > 4 and move[4].isalpha():\n",
    "                promotion_piece = move[4:].lower()\n",
    "                # Mappa la parte di promozione\n",
    "                promotion_piece = str(self.piece_mapping.get(promotion_piece, promotion_piece))\n",
    "                end_square += promotion_piece\n",
    "    \n",
    "            return start_square + end_square\n",
    "        except Exception as e:\n",
    "            print(f\"Errore durante la conversione della mossa {move}: {e}\")\n",
    "            return None  # o gestisci l'errore nel modo che preferisci\n",
    "    \n",
    "    def convert_to_float(self, value):\n",
    "        \"\"\"\n",
    "        Convert a value to a float.\n",
    "\n",
    "        Parameters:\n",
    "        - value: The input value.\n",
    "\n",
    "        Returns:\n",
    "        - The converted float value.\n",
    "        \"\"\"\n",
    "\n",
    "        try:\n",
    "            return float(value[1:]) if '#' in str(value) else float(value)\n",
    "        except ValueError:\n",
    "            return None\n",
    "    \n",
    "    def process_dataset(self):\n",
    "        \"\"\"\n",
    "        Process the chess dataset.\n",
    "\n",
    "        Returns:\n",
    "        - The processed dataset.\n",
    "        \"\"\"\n",
    "\n",
    "        array_fen = self.dataset['FEN'].tolist()\n",
    "        array_move = self.dataset['BestMove'].tolist()\n",
    "        array_piece = self.dataset['PieceCount'].tolist()\n",
    "        array_threat_count = self.dataset['ThreatCount'].tolist()\n",
    "        array_pawn = self.dataset['PawnStructure'].tolist()\n",
    "        array_scores = self.dataset['Score'].tolist()\n",
    "        \n",
    "        tqdm_iterator = tqdm(enumerate(array_fen), total=len(array_fen), desc=\"Processing DataFrame\")\n",
    "        \n",
    "        # Create a DataFrame with separate columns for each position\n",
    "        df_positions = pd.DataFrame([self.split(self.toZeroes(fen).replace('/', '')) for _, fen in tqdm_iterator],\n",
    "                                    columns=[f'{i}' for i in range((8 * 8))])\n",
    "        \n",
    "        processed_dataset = pd.concat([\n",
    "            df_positions,\n",
    "            pd.Series(array_move, name=\"BestMove\"),\n",
    "            pd.Series(array_piece, name=\"PieceCount\"),\n",
    "            pd.Series(array_threat_count, name=\"ThreatCount\"),\n",
    "            pd.Series(array_pawn, name=\"PawnStructure\"),\n",
    "            pd.Series(array_scores, name='Score')\n",
    "        ], axis=1)\n",
    "        \n",
    "        processed_dataset = processed_dataset.replace({col: self.piece_mapping for col in processed_dataset.columns})\n",
    "\n",
    "        self.convertPieces()\n",
    "       \n",
    "        processed_dataset['BestMove'] = processed_dataset['BestMove'].apply(self.convert_move)\n",
    "        processed_dataset['Score'] = processed_dataset['Score'].apply(self.convert_to_float)\n",
    "        processed_dataset['Score'] = processed_dataset['Score'].astype(float)\n",
    "\n",
    "        return processed_dataset\n",
    "\n",
    "df = ChessDatasetProcessor(ds).process_dataset()"
   ]
  },
  {
   "cell_type": "markdown",
   "metadata": {
    "collapsed": false
   },
   "source": [
    "## Create and train a Multi-Layer Perceptron (MLP) regression model using scikit-learn's 'MLPRegressor'\n",
    "\n",
    "It perform a training using 2 hidden layer of 300 neurons after dividing the data into training and testing sets using the train_test_split using 20% of data for testing."
   ]
  },
  {
   "cell_type": "code",
   "execution_count": null,
   "metadata": {
    "ExecuteTime": {
     "end_time": "2023-11-18T18:09:12.147134Z",
     "start_time": "2023-11-18T18:08:04.578085Z"
    },
    "collapsed": false,
    "pycharm": {
     "is_executing": true
    }
   },
   "outputs": [],
   "source": [
    "\n",
    "y = df['Score']  # target Score\n",
    "X = df.drop(columns=['Score'])  # input features\n",
    "\n",
    "X_train, X_test, y_train, y_test = train_test_split(X, y, test_size=0.2)\n",
    "\n",
    "mlp = MLPRegressor(hidden_layer_sizes=(300, 300,), max_iter=200, verbose=True)\n",
    "fitting = mlp.fit(X_train, y_train)"
   ]
  },
  {
   "cell_type": "markdown",
   "metadata": {
    "collapsed": false
   },
   "source": [
    "## Plotting results of mlp training\n",
    "\n",
    "As we can see"
   ]
  },
  {
   "cell_type": "code",
   "execution_count": 22,
   "metadata": {
    "ExecuteTime": {
     "end_time": "2023-11-18T18:09:20.962264Z",
     "start_time": "2023-11-18T18:09:20.436437Z"
    },
    "collapsed": false
   },
   "outputs": [
    {
     "name": "stdout",
     "output_type": "stream",
     "text": [
      "Training set score:  0.8664158836706483\n",
      "Test set score:  0.4007507880734168\n"
     ]
    }
   ],
   "source": [
    "print(\"Training set score: \",mlp.score(X_train,y_train))\n",
    "print(\"Test set score: \",mlp.score(X_test,y_test))"
   ]
  },
  {
   "cell_type": "markdown",
   "metadata": {
    "collapsed": false
   },
   "source": [
    "## Saving regressor object"
   ]
  },
  {
   "cell_type": "code",
   "execution_count": 9,
   "metadata": {
    "ExecuteTime": {
     "end_time": "2023-11-18T18:13:35.625449Z",
     "start_time": "2023-11-18T18:13:35.453548Z"
    },
    "collapsed": false
   },
   "outputs": [],
   "source": [
    "filename = \"model.sav\"\n",
    "directory = \"./dataset/\"\n",
    "df.to_csv(directory + filename, index=False)\n",
    "\n",
    "pickle.dump(mlp, open(directory + filename, 'wb'))\n",
    "mlp = pickle.load(open(directory + filename, 'rb'))"
   ]
  },
  {
   "cell_type": "markdown",
   "metadata": {
    "collapsed": false
   },
   "source": [
    "## Main class for testing model\n",
    "\n",
    "It will show statistics about games in different cases of studies."
   ]
  },
  {
   "cell_type": "code",
   "execution_count": 15,
   "metadata": {
    "ExecuteTime": {
     "end_time": "2023-11-18T18:19:14.224085Z",
     "start_time": "2023-11-18T18:19:14.217429Z"
    },
    "collapsed": false
   },
   "outputs": [],
   "source": [
    "class Main:\n",
    "    def __init__(self, player1 , player2, game, matches, view=False):\n",
    "    \n",
    "\n",
    "        self.player1 = player1\n",
    "        self.player2 = player2\n",
    "        self.game = game\n",
    "        self.matches = matches\n",
    "        self.view = view\n",
    "        \n",
    "    def play(self):\n",
    "    \n",
    "        WW = 0\n",
    "        WB = 0\n",
    "        P = 0\n",
    "        mosseTot = 0\n",
    "        st = time.time()\n",
    "        \n",
    "        for _ in tqdm(range(1, self.matches), desc=\"Gaming\", unit=\"iter\"):\n",
    "            a = self.game.startGame()\n",
    "            mosseTot += a[0]\n",
    "\n",
    "            if a[1] == \"1-0\":\n",
    "               if self.view: print(\"White win\")\n",
    "               WW += 1\n",
    "               \n",
    "            elif a[1] == \"0-1\":\n",
    "                if self.view: print(\"Black win\")\n",
    "                WB += 1\n",
    "            else: # * = draw\n",
    "                P += 1\n",
    "                if self.view: print(\"Draw\")\n",
    "            \n",
    "            if self.view: print(\"Moves Made:\" + str(a[0])); print()\n",
    "            \n",
    "            if (_ == (self.matches - 1) and self.view):\n",
    "                print();print(\"-\" * 80)\n",
    "        \n",
    "        et = time.time()\n",
    "        elapsed_time = et - st\n",
    "        \n",
    "        print(\"WHITE Player Wins: \" + str(WW))\n",
    "        print(\"BLACK Player Wins: \" + str(WB))\n",
    "        print(\"Draws: \" + str(P)); print()\n",
    "        print(\"Total Moves: \" + str(mosseTot))\n",
    "        print(\"Average Number of Moves per Game: \" + str(round(mosseTot / (self.matches - 1), 2))); print()\n",
    "        print(\"WHITE Player Win Percentage: \" + str(round(WW / (self.matches - 1) * 100, 2)) + \"%\")\n",
    "        print(\"BLACK Player Win Percentage: \" + str(round(WB / (self.matches - 1) * 100, 2)) + \"%\")\n",
    "        print(\"Draw Percentage: \" + str(round(P / (self.matches - 1) * 100, 2)) + \"%\")\n",
    "        print(\"-\" * 80)\n",
    "        print('Execution time:', round(elapsed_time, 2), 'seconds')\n",
    "        print(round(elapsed_time/(rep - 1), 2), 'seconds per match (average)')\n",
    "        \n",
    "        plot_results(WW, WB, P, self.matches - 1)\n",
    "\n",
    "def plot_results(wins_white, wins_black, draws, matches):\n",
    "\n",
    "    strategies = ['White Wins', 'Black Wins', 'Draws']\n",
    "    percentages = [wins_white / matches * 100, wins_black / matches * 100, draws / matches * 100]\n",
    "\n",
    "    fig, ax = plt.subplots()\n",
    "    bars = ax.bar(strategies, percentages, color=['blue', 'green', 'gray'])\n",
    "\n",
    "    ax.set_ylabel('Percentage')\n",
    "    ax.set_title('Results of Chess Matches')\n",
    "    \n",
    "    for bar, percentage in zip(bars, percentages):\n",
    "        height = bar.get_height()\n",
    "        ax.annotate(f'{percentage:.2f}%',  # Mostra la percentuale sopra la barra\n",
    "                    xy=(bar.get_x() + bar.get_width() / 2, height),\n",
    "                    xytext=(0, 3),  # Spazio aggiuntivo tra la barra e l'etichetta\n",
    "                    textcoords=\"offset points\",\n",
    "                    ha='center', va='bottom')\n",
    "\n",
    "    plt.show()\n",
    "\n",
    "rep = 100"
   ]
  },
  {
   "cell_type": "markdown",
   "metadata": {
    "collapsed": false
   },
   "source": [
    "# PredictiveMinMax and PredictiveGreedy vs different case of studies\n",
    "\n",
    "In each scenario, a simulation is configured with 100 matches (rep) involving two players, denoted as player1 and player2. This simulation utilizes a dedicated chess game implementation (game). Subsequently, the play method is invoked to carry out the simulation, and the results of the total games are printed.\n",
    "\n",
    "Observing the outcomes, it becomes evident that the Min-Max algorithm outperforms the Greedy approach, as the latter never secures a victory. However, the limitations of the predictor become apparent, as the win ratio is notably low; in fact, nearly all outcomes result in draws.\n"
   ]
  },
  {
   "cell_type": "code",
   "execution_count": null,
   "outputs": [],
   "source": [],
   "metadata": {
    "collapsed": false
   }
  },
  {
   "cell_type": "code",
   "execution_count": 69,
   "metadata": {
    "ExecuteTime": {
     "end_time": "2023-11-18T18:24:15.976002Z",
     "start_time": "2023-11-18T18:21:17.621002Z"
    },
    "collapsed": false
   },
   "outputs": [
    {
     "name": "stderr",
     "output_type": "stream",
     "text": [
      "Gaming: 100%|██████████| 100/100 [1:14:56<00:00, 44.96s/iter]"
     ]
    },
    {
     "name": "stdout",
     "output_type": "stream",
     "text": [
      "WHITE Player Wins: 3\n",
      "BLACK Player Wins: 0\n",
      "Draws: 97\n",
      "\n",
      "Total Moves: 4099\n",
      "Average Number of Moves per Game: 40.99\n",
      "\n",
      "WHITE Player Win Percentage: 3.0%\n",
      "BLACK Player Win Percentage: 0.0%\n",
      "Draw Percentage: 97.0%\n",
      "--------------------------------------------------------------------------------\n",
      "Execution time: 4496.16 seconds\n",
      "44.96 seconds per match (average)\n"
     ]
    },
    {
     "name": "stderr",
     "output_type": "stream",
     "text": [
      "\n"
     ]
    },
    {
     "data": {
      "image/png": "[encoded data removed]",
      "text/plain": [
       "<Figure size 640x480 with 1 Axes>"
      ]
     },
     "metadata": {},
     "output_type": "display_data"
    }
   ],
   "source": [
    "Agent1 = PredictivePlayerMinMax(\"WHITE\", 3, mlp)\n",
    "Agent2 = GreedyPlayer(\"BLACK\", HeuristicChess())\n",
    "\n",
    "Game = Chess(Agent1, Agent2, chess.Board())\n",
    "main = Main(Agent1, Agent2, Game, rep)\n",
    "main.play()"
   ]
  },
  {
   "cell_type": "markdown",
   "metadata": {
    "collapsed": false
   },
   "source": [
    "## Test on Predictive at Level 3 vs MinMax (Depth L):\n",
    "\n",
    "The MinMax agent secured a slightly higher count of victories in comparison to the predictive agent. This observation could imply that, within specific configurations or the examined game dynamics, the black agent possesses a strategic advantage or is more adept at capitalizing on opportunities."
   ]
  },
  {
   "cell_type": "code",
   "execution_count": 72,
   "metadata": {
    "ExecuteTime": {
     "end_time": "2023-11-18T17:50:22.071064Z",
     "start_time": "2023-11-18T17:49:46.226144Z"
    },
    "collapsed": false
   },
   "outputs": [
    {
     "name": "stderr",
     "output_type": "stream",
     "text": [
      "Gaming: 100%|██████████| 100/100 [1:16:01<00:00, 45.62s/iter]"
     ]
    },
    {
     "name": "stdout",
     "output_type": "stream",
     "text": [
      "WHITE Player Wins: 21\n",
      "BLACK Player Wins: 28\n",
      "Draws: 51\n",
      "\n",
      "Total Moves: 4132\n",
      "Average Number of Moves per Game: 41.32\n",
      "\n",
      "WHITE Player Win Percentage: 21.0%\n",
      "BLACK Player Win Percentage: 28.0%\n",
      "Draw Percentage: 51.0%\n",
      "--------------------------------------------------------------------------------\n",
      "Execution time: 4561.65 seconds\n",
      "45.62 seconds per match (average)\n"
     ]
    },
    {
     "name": "stderr",
     "output_type": "stream",
     "text": [
      "\n"
     ]
    },
    {
     "data": {
      "image/png": "[encoded data removed]",
      "text/plain": [
       "<Figure size 640x480 with 1 Axes>"
      ]
     },
     "metadata": {},
     "output_type": "display_data"
    }
   ],
   "source": [
    "Agent1 = PredictivePlayerMinMax(\"WHITE\", 3, mlp)\n",
    "Agent2 = MinMaxPlayerSpeedUp(\"BLACK\", HeuristicChess(), 3, 2, 8)\n",
    "\n",
    "Game = Chess(Agent1, Agent2, chess.Board())\n",
    "main = Main(Agent1, Agent2, Game, rep)\n",
    "main.play()"
   ]
  },
  {
   "cell_type": "markdown",
   "metadata": {
    "collapsed": false
   },
   "source": [
    "## Experiments on PredictivePlayerMinMax at level 3 and PredictivePlayerGreedy\n",
    "\n",
    "The findings from these tests indicate that, within the defined configurations or game dynamics, the MinMax strategy with pruning, implemented by the white player, demonstrates greater efficacy in making winning decisions when compared to the Greedy method employed by the black player. The absence of victories for the black player may suggest a limitation in the effectiveness of the Greedy strategy within this particular context."
   ]
  },
  {
   "cell_type": "code",
   "execution_count": 16,
   "metadata": {
    "collapsed": false
   },
   "outputs": [
    {
     "name": "stderr",
     "output_type": "stream",
     "text": [
      "Gaming: 100%|██████████| 100/100 [1:14:50<00:00, 44.91s/iter]"
     ]
    },
    {
     "name": "stdout",
     "output_type": "stream",
     "text": [
      "WHITE Player Wins: 13\n",
      "BLACK Player Wins: 0\n",
      "Draws: 87\n",
      "\n",
      "Total Moves: 4087\n",
      "Average Number of Moves per Game: 40.87\n",
      "\n",
      "WHITE Player Win Percentage: 13.0%\n",
      "BLACK Player Win Percentage: 0.0%\n",
      "Draw Percentage: 87.0%\n",
      "--------------------------------------------------------------------------------\n",
      "Execution time: 4490.8 seconds\n",
      "44.91 seconds per match (average)\n"
     ]
    },
    {
     "name": "stderr",
     "output_type": "stream",
     "text": [
      "\n"
     ]
    },
    {
     "data": {
      "image/png": "[encoded data removed]",
      "text/plain": [
       "<Figure size 640x480 with 1 Axes>"
      ]
     },
     "metadata": {},
     "output_type": "display_data"
    }
   ],
   "source": [
    "Agent1 = PredictivePlayerMinMax(\"WHITE\", 3, mlp)\n",
    "Agent2 = PredictivePlayerGreedy(\"BLACK\", mlp)\n",
    "\n",
    "Game = Chess(Agent1, Agent2, chess.Board())\n",
    "main = Main(Agent1, Agent2, Game, rep)\n",
    "main.play()"
   ]
  },
  {
   "cell_type": "markdown",
   "metadata": {
    "collapsed": false
   },
   "source": [
    "## Tests on PredictivePlayerGreedy and PredictivePlayerMinMax at level 3\n",
    "\n",
    "These results suggest that, in the specific configurations or game dynamics considered, the MinMax approach adopted by the black player (MinMax) has been consistently more successful, securing a significant number of victories compared to the Greedy approach utilized by the white player (PredictivePlayerGreedy). The draws indicate a balance in some game scenarios, but the dominance of MinMax in wins implies its strategic advantage in this context."
   ]
  },
  {
   "cell_type": "code",
   "execution_count": 17,
   "metadata": {
    "ExecuteTime": {
     "end_time": "2023-11-18T18:25:37.894268Z",
     "start_time": "2023-11-18T18:25:26.543063Z"
    },
    "collapsed": false
   },
   "outputs": [
    {
     "name": "stderr",
     "output_type": "stream",
     "text": [
      "Gaming: 100%|██████████| 100/100 [15:17<00:00,  9.18s/iter]\n"
     ]
    },
    {
     "name": "stdout",
     "output_type": "stream",
     "text": [
      "WHITE Player Wins: 0\n",
      "BLACK Player Wins: 54\n",
      "Draws: 46\n",
      "\n",
      "Total Moves: 2855\n",
      "Average Number of Moves per Game: 28.55\n",
      "\n",
      "WHITE Player Win Percentage: 0.0%\n",
      "BLACK Player Win Percentage: 54.0%\n",
      "Draw Percentage: 46.0%\n",
      "--------------------------------------------------------------------------------\n",
      "Execution time: 917.94 seconds\n",
      "9.18 seconds per match (average)\n"
     ]
    },
    {
     "data": {
      "image/png": "[encoded data removed]",
      "text/plain": [
       "<Figure size 640x480 with 1 Axes>"
      ]
     },
     "metadata": {},
     "output_type": "display_data"
    }
   ],
   "source": [
    "Agent1 = PredictivePlayerGreedy(\"WHITE\", mlp)\n",
    "Agent2 = MinMaxPlayerSpeedUp(\"BLACK\", HeuristicChess(), 3, 2, 8)\n",
    "\n",
    "Game = Chess(Agent1, Agent2, chess.Board())\n",
    "main = Main(Agent1, Agent2, Game, rep)\n",
    "main.play()"
   ]
  }
 ],
 "metadata": {
  "kernelspec": {
   "display_name": "Python 3 (ipykernel)",
   "language": "python",
   "name": "python3"
  },
  "language_info": {
   "codemirror_mode": {
    "name": "ipython",
    "version": 2
   },
   "file_extension": ".py",
   "mimetype": "text/x-python",
   "name": "python",
   "nbconvert_exporter": "python",
   "pygments_lexer": "ipython2",
   "version": "2.7.6"
  }
 },
 "nbformat": 4,
 "nbformat_minor": 0
}
